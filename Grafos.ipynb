{
 "cells": [
  {
   "cell_type": "code",
   "execution_count": 2,
   "id": "c45d38c3",
   "metadata": {},
   "outputs": [],
   "source": [
    "import tensorflow as tf"
   ]
  },
  {
   "cell_type": "code",
   "execution_count": 10,
   "id": "6da76e6e",
   "metadata": {},
   "outputs": [],
   "source": [
    "tf.reset_default_graph()"
   ]
  },
  {
   "cell_type": "code",
   "execution_count": 5,
   "id": "12116b97",
   "metadata": {},
   "outputs": [],
   "source": [
    "#a=tf.add(2, 2, name = 'add')\n",
    "#b=tf.multiply(a, 3, name = 'multi1')\n",
    "#c=tf.multiply(b, a, name = 'multi2')"
   ]
  },
  {
   "cell_type": "code",
   "execution_count": 8,
   "id": "319f5a0c",
   "metadata": {},
   "outputs": [],
   "source": [
    "with tf.name_scope('operacoes'):\n",
    "    with tf.name_scope('Escopo_A'):\n",
    "        a=tf.add(2, 2, name = 'add')\n",
    "    with tf.name_scope('Escopo_B'):\n",
    "        b=tf.multiply(a, 3, name = 'multi1')\n",
    "        c=tf.multiply(b, a, name = 'multi2')\n",
    "\n",
    "    \n",
    "    \n"
   ]
  },
  {
   "cell_type": "code",
   "execution_count": 9,
   "id": "42b173c3",
   "metadata": {},
   "outputs": [
    {
     "name": "stdout",
     "output_type": "stream",
     "text": [
      "48\n"
     ]
    }
   ],
   "source": [
    "with tf.Session() as sess:\n",
    "    writer = tf.summary.FileWriter('output', sess.graph)\n",
    "    print(sess.run(c))\n",
    "    writer.close()\n",
    "    \n",
    "    "
   ]
  },
  {
   "cell_type": "code",
   "execution_count": null,
   "id": "a819fc0f",
   "metadata": {},
   "outputs": [],
   "source": []
  }
 ],
 "metadata": {
  "kernelspec": {
   "display_name": "Python 3",
   "language": "python",
   "name": "python3"
  },
  "language_info": {
   "codemirror_mode": {
    "name": "ipython",
    "version": 3
   },
   "file_extension": ".py",
   "mimetype": "text/x-python",
   "name": "python",
   "nbconvert_exporter": "python",
   "pygments_lexer": "ipython3",
   "version": "3.5.6"
  }
 },
 "nbformat": 4,
 "nbformat_minor": 5
}
